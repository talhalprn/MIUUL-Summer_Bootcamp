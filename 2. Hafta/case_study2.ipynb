{
 "cells": [
  {
   "cell_type": "markdown",
   "id": "f3561d44-2fb9-4a72-8cac-5a5dff301ef5",
   "metadata": {},
   "source": [
    "# Case Study 2 - Kural Tabanlı Sınıflandırma ile Potansiyel Müşteri Getirisi Hesaplama"
   ]
  },
  {
   "cell_type": "code",
   "execution_count": 1,
   "id": "a907b555-a938-470e-b161-cf5e697620b0",
   "metadata": {},
   "outputs": [
    {
     "data": {
      "text/html": [
       "<div>\n",
       "<style scoped>\n",
       "    .dataframe tbody tr th:only-of-type {\n",
       "        vertical-align: middle;\n",
       "    }\n",
       "\n",
       "    .dataframe tbody tr th {\n",
       "        vertical-align: top;\n",
       "    }\n",
       "\n",
       "    .dataframe thead th {\n",
       "        text-align: right;\n",
       "    }\n",
       "</style>\n",
       "<table border=\"1\" class=\"dataframe\">\n",
       "  <thead>\n",
       "    <tr style=\"text-align: right;\">\n",
       "      <th></th>\n",
       "      <th>PRICE</th>\n",
       "      <th>SOURCE</th>\n",
       "      <th>SEX</th>\n",
       "      <th>COUNTRY</th>\n",
       "      <th>AGE</th>\n",
       "    </tr>\n",
       "  </thead>\n",
       "  <tbody>\n",
       "    <tr>\n",
       "      <th>0</th>\n",
       "      <td>39</td>\n",
       "      <td>android</td>\n",
       "      <td>male</td>\n",
       "      <td>bra</td>\n",
       "      <td>17</td>\n",
       "    </tr>\n",
       "    <tr>\n",
       "      <th>1</th>\n",
       "      <td>39</td>\n",
       "      <td>android</td>\n",
       "      <td>male</td>\n",
       "      <td>bra</td>\n",
       "      <td>17</td>\n",
       "    </tr>\n",
       "    <tr>\n",
       "      <th>2</th>\n",
       "      <td>49</td>\n",
       "      <td>android</td>\n",
       "      <td>male</td>\n",
       "      <td>bra</td>\n",
       "      <td>17</td>\n",
       "    </tr>\n",
       "    <tr>\n",
       "      <th>3</th>\n",
       "      <td>29</td>\n",
       "      <td>android</td>\n",
       "      <td>male</td>\n",
       "      <td>tur</td>\n",
       "      <td>17</td>\n",
       "    </tr>\n",
       "    <tr>\n",
       "      <th>4</th>\n",
       "      <td>49</td>\n",
       "      <td>android</td>\n",
       "      <td>male</td>\n",
       "      <td>tur</td>\n",
       "      <td>17</td>\n",
       "    </tr>\n",
       "  </tbody>\n",
       "</table>\n",
       "</div>"
      ],
      "text/plain": [
       "   PRICE   SOURCE   SEX COUNTRY  AGE\n",
       "0     39  android  male     bra   17\n",
       "1     39  android  male     bra   17\n",
       "2     49  android  male     bra   17\n",
       "3     29  android  male     tur   17\n",
       "4     49  android  male     tur   17"
      ]
     },
     "execution_count": 1,
     "metadata": {},
     "output_type": "execute_result"
    }
   ],
   "source": [
    "# Soru 1: persona.csv dosyasını okutunuz ve veri seti ile ilgili genel bilgileri gösteriniz.\n",
    "\n",
    "import numpy as np\n",
    "import pandas as pd\n",
    "import seaborn as sns\n",
    "\n",
    "df = pd.read_csv(\"/Users/Talha/Downloads/persona.csv\")\n",
    "df.head()"
   ]
  },
  {
   "cell_type": "code",
   "execution_count": 9,
   "id": "7f32cef3-de4b-497e-a424-7bf4e49eaa12",
   "metadata": {},
   "outputs": [
    {
     "data": {
      "text/plain": [
       "2"
      ]
     },
     "execution_count": 9,
     "metadata": {},
     "output_type": "execute_result"
    }
   ],
   "source": [
    "# Soru 2: Kaç unique SOURCE vardır? Frekansları nedir?\n",
    "\n",
    "df[\"SOURCE\"].nunique()"
   ]
  },
  {
   "cell_type": "code",
   "execution_count": 10,
   "id": "435ba0d7-4e5d-4cc8-b480-af20796c34a9",
   "metadata": {},
   "outputs": [
    {
     "data": {
      "text/plain": [
       "android    2974\n",
       "ios        2026\n",
       "Name: SOURCE, dtype: int64"
      ]
     },
     "execution_count": 10,
     "metadata": {},
     "output_type": "execute_result"
    }
   ],
   "source": [
    "df[\"SOURCE\"].value_counts()"
   ]
  },
  {
   "cell_type": "code",
   "execution_count": 7,
   "id": "c5c43fb8-782f-4e74-bf9b-a17517d0ea76",
   "metadata": {},
   "outputs": [
    {
     "data": {
      "text/plain": [
       "6"
      ]
     },
     "execution_count": 7,
     "metadata": {},
     "output_type": "execute_result"
    }
   ],
   "source": [
    "# Soru 3: Kaç unique PRICE vardır?\n",
    "\n",
    "df[\"PRICE\"].nunique()"
   ]
  },
  {
   "cell_type": "code",
   "execution_count": 11,
   "id": "e89e16ad-9a51-4474-8e77-4349defa8c93",
   "metadata": {},
   "outputs": [
    {
     "data": {
      "text/plain": [
       "29    1305\n",
       "39    1260\n",
       "49    1031\n",
       "19     992\n",
       "59     212\n",
       "9      200\n",
       "Name: PRICE, dtype: int64"
      ]
     },
     "execution_count": 11,
     "metadata": {},
     "output_type": "execute_result"
    }
   ],
   "source": [
    "# Soru 4: Hangi PRICE'dan kaçar tane satış gerçekleşmiş?\n",
    "\n",
    "df[\"PRICE\"].value_counts()"
   ]
  },
  {
   "cell_type": "code",
   "execution_count": 12,
   "id": "2c9b9984-6a2d-4d11-ad2b-336b460cf9c9",
   "metadata": {},
   "outputs": [
    {
     "data": {
      "text/plain": [
       "usa    2065\n",
       "bra    1496\n",
       "deu     455\n",
       "tur     451\n",
       "fra     303\n",
       "can     230\n",
       "Name: COUNTRY, dtype: int64"
      ]
     },
     "execution_count": 12,
     "metadata": {},
     "output_type": "execute_result"
    }
   ],
   "source": [
    "# Soru 5: Hangi ülkeden kaçar tane satış olmuş?\n",
    "\n",
    "df[\"COUNTRY\"].value_counts()"
   ]
  },
  {
   "cell_type": "code",
   "execution_count": 17,
   "id": "401223a0-dde6-4786-a13d-f15fb7b127b3",
   "metadata": {},
   "outputs": [
    {
     "data": {
      "text/html": [
       "<div>\n",
       "<style scoped>\n",
       "    .dataframe tbody tr th:only-of-type {\n",
       "        vertical-align: middle;\n",
       "    }\n",
       "\n",
       "    .dataframe tbody tr th {\n",
       "        vertical-align: top;\n",
       "    }\n",
       "\n",
       "    .dataframe thead th {\n",
       "        text-align: right;\n",
       "    }\n",
       "</style>\n",
       "<table border=\"1\" class=\"dataframe\">\n",
       "  <thead>\n",
       "    <tr style=\"text-align: right;\">\n",
       "      <th>COUNTRY</th>\n",
       "      <th>bra</th>\n",
       "      <th>can</th>\n",
       "      <th>deu</th>\n",
       "      <th>fra</th>\n",
       "      <th>tur</th>\n",
       "      <th>usa</th>\n",
       "    </tr>\n",
       "  </thead>\n",
       "  <tbody>\n",
       "    <tr>\n",
       "      <th>PRICE</th>\n",
       "      <td>51354</td>\n",
       "      <td>7730</td>\n",
       "      <td>15485</td>\n",
       "      <td>10177</td>\n",
       "      <td>15689</td>\n",
       "      <td>70225</td>\n",
       "    </tr>\n",
       "  </tbody>\n",
       "</table>\n",
       "</div>"
      ],
      "text/plain": [
       "COUNTRY    bra   can    deu    fra    tur    usa\n",
       "PRICE    51354  7730  15485  10177  15689  70225"
      ]
     },
     "execution_count": 17,
     "metadata": {},
     "output_type": "execute_result"
    }
   ],
   "source": [
    "# Soru 6: Ülkelere göre satışlardan toplam ne kadar kazanılmış?\n",
    "\n",
    "df.groupby(\"COUNTRY\").agg({\"PRICE\": \"sum\"}).T"
   ]
  },
  {
   "cell_type": "code",
   "execution_count": 21,
   "id": "8e1342ac-7138-4b40-bf89-e8c207fdcc7c",
   "metadata": {},
   "outputs": [
    {
     "data": {
      "text/plain": [
       "android    2974\n",
       "ios        2026\n",
       "Name: SOURCE, dtype: int64"
      ]
     },
     "execution_count": 21,
     "metadata": {},
     "output_type": "execute_result"
    }
   ],
   "source": [
    "# Soru 7: SOURCE türlerine göre göre satış sayıları nedir?\n",
    "\n",
    "df.SOURCE.value_counts()"
   ]
  },
  {
   "cell_type": "code",
   "execution_count": 22,
   "id": "927e5a82-970a-48c4-9e64-b4263b611571",
   "metadata": {},
   "outputs": [
    {
     "data": {
      "text/html": [
       "<div>\n",
       "<style scoped>\n",
       "    .dataframe tbody tr th:only-of-type {\n",
       "        vertical-align: middle;\n",
       "    }\n",
       "\n",
       "    .dataframe tbody tr th {\n",
       "        vertical-align: top;\n",
       "    }\n",
       "\n",
       "    .dataframe thead th {\n",
       "        text-align: right;\n",
       "    }\n",
       "</style>\n",
       "<table border=\"1\" class=\"dataframe\">\n",
       "  <thead>\n",
       "    <tr style=\"text-align: right;\">\n",
       "      <th>COUNTRY</th>\n",
       "      <th>bra</th>\n",
       "      <th>can</th>\n",
       "      <th>deu</th>\n",
       "      <th>fra</th>\n",
       "      <th>tur</th>\n",
       "      <th>usa</th>\n",
       "    </tr>\n",
       "  </thead>\n",
       "  <tbody>\n",
       "    <tr>\n",
       "      <th>PRICE</th>\n",
       "      <td>34.32754</td>\n",
       "      <td>33.608696</td>\n",
       "      <td>34.032967</td>\n",
       "      <td>33.587459</td>\n",
       "      <td>34.78714</td>\n",
       "      <td>34.007264</td>\n",
       "    </tr>\n",
       "  </tbody>\n",
       "</table>\n",
       "</div>"
      ],
      "text/plain": [
       "COUNTRY       bra        can        deu        fra       tur        usa\n",
       "PRICE    34.32754  33.608696  34.032967  33.587459  34.78714  34.007264"
      ]
     },
     "execution_count": 22,
     "metadata": {},
     "output_type": "execute_result"
    }
   ],
   "source": [
    "# Soru 8: Ülkelere göre PRICE ortalamaları nedir?\n",
    "\n",
    "df.groupby(\"COUNTRY\").agg({\"PRICE\": \"mean\"}).T"
   ]
  },
  {
   "cell_type": "code",
   "execution_count": 24,
   "id": "f26dfd4b-a576-4293-8160-a61acbd1ae34",
   "metadata": {},
   "outputs": [
    {
     "data": {
      "text/html": [
       "<div>\n",
       "<style scoped>\n",
       "    .dataframe tbody tr th:only-of-type {\n",
       "        vertical-align: middle;\n",
       "    }\n",
       "\n",
       "    .dataframe tbody tr th {\n",
       "        vertical-align: top;\n",
       "    }\n",
       "\n",
       "    .dataframe thead th {\n",
       "        text-align: right;\n",
       "    }\n",
       "</style>\n",
       "<table border=\"1\" class=\"dataframe\">\n",
       "  <thead>\n",
       "    <tr style=\"text-align: right;\">\n",
       "      <th>SOURCE</th>\n",
       "      <th>android</th>\n",
       "      <th>ios</th>\n",
       "    </tr>\n",
       "  </thead>\n",
       "  <tbody>\n",
       "    <tr>\n",
       "      <th>PRICE</th>\n",
       "      <td>34.174849</td>\n",
       "      <td>34.069102</td>\n",
       "    </tr>\n",
       "  </tbody>\n",
       "</table>\n",
       "</div>"
      ],
      "text/plain": [
       "SOURCE    android        ios\n",
       "PRICE   34.174849  34.069102"
      ]
     },
     "execution_count": 24,
     "metadata": {},
     "output_type": "execute_result"
    }
   ],
   "source": [
    "# Soru 9: SOURCE'lara göre PRICE ortalamaları nedir?\n",
    "\n",
    "df.groupby(\"SOURCE\").agg({\"PRICE\": \"mean\"}).T"
   ]
  },
  {
   "cell_type": "code",
   "execution_count": 30,
   "id": "befa3393-349f-4b02-8c31-6e7e7235804b",
   "metadata": {},
   "outputs": [
    {
     "data": {
      "text/html": [
       "<div>\n",
       "<style scoped>\n",
       "    .dataframe tbody tr th:only-of-type {\n",
       "        vertical-align: middle;\n",
       "    }\n",
       "\n",
       "    .dataframe tbody tr th {\n",
       "        vertical-align: top;\n",
       "    }\n",
       "\n",
       "    .dataframe thead tr th {\n",
       "        text-align: left;\n",
       "    }\n",
       "</style>\n",
       "<table border=\"1\" class=\"dataframe\">\n",
       "  <thead>\n",
       "    <tr>\n",
       "      <th>COUNTRY</th>\n",
       "      <th colspan=\"2\" halign=\"left\">bra</th>\n",
       "      <th colspan=\"2\" halign=\"left\">can</th>\n",
       "      <th colspan=\"2\" halign=\"left\">deu</th>\n",
       "      <th colspan=\"2\" halign=\"left\">fra</th>\n",
       "      <th colspan=\"2\" halign=\"left\">tur</th>\n",
       "      <th colspan=\"2\" halign=\"left\">usa</th>\n",
       "    </tr>\n",
       "    <tr>\n",
       "      <th>SOURCE</th>\n",
       "      <th>android</th>\n",
       "      <th>ios</th>\n",
       "      <th>android</th>\n",
       "      <th>ios</th>\n",
       "      <th>android</th>\n",
       "      <th>ios</th>\n",
       "      <th>android</th>\n",
       "      <th>ios</th>\n",
       "      <th>android</th>\n",
       "      <th>ios</th>\n",
       "      <th>android</th>\n",
       "      <th>ios</th>\n",
       "    </tr>\n",
       "  </thead>\n",
       "  <tbody>\n",
       "    <tr>\n",
       "      <th>PRICE</th>\n",
       "      <td>34.387029</td>\n",
       "      <td>34.222222</td>\n",
       "      <td>33.330709</td>\n",
       "      <td>33.951456</td>\n",
       "      <td>33.869888</td>\n",
       "      <td>34.268817</td>\n",
       "      <td>34.3125</td>\n",
       "      <td>32.776224</td>\n",
       "      <td>36.229437</td>\n",
       "      <td>33.272727</td>\n",
       "      <td>33.760357</td>\n",
       "      <td>34.371703</td>\n",
       "    </tr>\n",
       "  </tbody>\n",
       "</table>\n",
       "</div>"
      ],
      "text/plain": [
       "COUNTRY        bra                   can                   deu             \\\n",
       "SOURCE     android        ios    android        ios    android        ios   \n",
       "PRICE    34.387029  34.222222  33.330709  33.951456  33.869888  34.268817   \n",
       "\n",
       "COUNTRY      fra                   tur                   usa             \n",
       "SOURCE   android        ios    android        ios    android        ios  \n",
       "PRICE    34.3125  32.776224  36.229437  33.272727  33.760357  34.371703  "
      ]
     },
     "execution_count": 30,
     "metadata": {},
     "output_type": "execute_result"
    }
   ],
   "source": [
    "# Soru 10: COUNTRY-SOURCE kırılımında PRICE ortalamaları nedir?\n",
    "\n",
    "df.groupby([\"COUNTRY\",\"SOURCE\"]).agg({\"PRICE\": \"mean\"}).T"
   ]
  },
  {
   "cell_type": "code",
   "execution_count": 33,
   "id": "ebf189c6-1372-4fe0-b54f-a8145c43268f",
   "metadata": {},
   "outputs": [
    {
     "data": {
      "text/html": [
       "<div>\n",
       "<style scoped>\n",
       "    .dataframe tbody tr th:only-of-type {\n",
       "        vertical-align: middle;\n",
       "    }\n",
       "\n",
       "    .dataframe tbody tr th {\n",
       "        vertical-align: top;\n",
       "    }\n",
       "\n",
       "    .dataframe thead th {\n",
       "        text-align: right;\n",
       "    }\n",
       "</style>\n",
       "<table border=\"1\" class=\"dataframe\">\n",
       "  <thead>\n",
       "    <tr style=\"text-align: right;\">\n",
       "      <th></th>\n",
       "      <th></th>\n",
       "      <th></th>\n",
       "      <th></th>\n",
       "      <th>PRICE</th>\n",
       "    </tr>\n",
       "    <tr>\n",
       "      <th>COUNTRY</th>\n",
       "      <th>SOURCE</th>\n",
       "      <th>SEX</th>\n",
       "      <th>AGE</th>\n",
       "      <th></th>\n",
       "    </tr>\n",
       "  </thead>\n",
       "  <tbody>\n",
       "    <tr>\n",
       "      <th rowspan=\"5\" valign=\"top\">bra</th>\n",
       "      <th rowspan=\"5\" valign=\"top\">android</th>\n",
       "      <th rowspan=\"5\" valign=\"top\">female</th>\n",
       "      <th>15</th>\n",
       "      <td>38.714286</td>\n",
       "    </tr>\n",
       "    <tr>\n",
       "      <th>16</th>\n",
       "      <td>35.944444</td>\n",
       "    </tr>\n",
       "    <tr>\n",
       "      <th>17</th>\n",
       "      <td>35.666667</td>\n",
       "    </tr>\n",
       "    <tr>\n",
       "      <th>18</th>\n",
       "      <td>32.255814</td>\n",
       "    </tr>\n",
       "    <tr>\n",
       "      <th>19</th>\n",
       "      <td>35.206897</td>\n",
       "    </tr>\n",
       "    <tr>\n",
       "      <th>...</th>\n",
       "      <th>...</th>\n",
       "      <th>...</th>\n",
       "      <th>...</th>\n",
       "      <td>...</td>\n",
       "    </tr>\n",
       "    <tr>\n",
       "      <th rowspan=\"5\" valign=\"top\">usa</th>\n",
       "      <th rowspan=\"5\" valign=\"top\">ios</th>\n",
       "      <th rowspan=\"5\" valign=\"top\">male</th>\n",
       "      <th>42</th>\n",
       "      <td>30.250000</td>\n",
       "    </tr>\n",
       "    <tr>\n",
       "      <th>50</th>\n",
       "      <td>39.000000</td>\n",
       "    </tr>\n",
       "    <tr>\n",
       "      <th>53</th>\n",
       "      <td>34.000000</td>\n",
       "    </tr>\n",
       "    <tr>\n",
       "      <th>55</th>\n",
       "      <td>29.000000</td>\n",
       "    </tr>\n",
       "    <tr>\n",
       "      <th>59</th>\n",
       "      <td>46.500000</td>\n",
       "    </tr>\n",
       "  </tbody>\n",
       "</table>\n",
       "<p>348 rows × 1 columns</p>\n",
       "</div>"
      ],
      "text/plain": [
       "                                PRICE\n",
       "COUNTRY SOURCE  SEX    AGE           \n",
       "bra     android female 15   38.714286\n",
       "                       16   35.944444\n",
       "                       17   35.666667\n",
       "                       18   32.255814\n",
       "                       19   35.206897\n",
       "...                               ...\n",
       "usa     ios     male   42   30.250000\n",
       "                       50   39.000000\n",
       "                       53   34.000000\n",
       "                       55   29.000000\n",
       "                       59   46.500000\n",
       "\n",
       "[348 rows x 1 columns]"
      ]
     },
     "execution_count": 33,
     "metadata": {},
     "output_type": "execute_result"
    }
   ],
   "source": [
    "# GÖREV 2: COUNTRY, SOURCE, SEX, AGE kırılımında ortalama kazançlar nedir?\n",
    "\n",
    "agg_df = df.groupby([\"COUNTRY\",\"SOURCE\",\"SEX\",\"AGE\"]).agg({\"PRICE\" : \"mean\"})\n"
   ]
  },
  {
   "cell_type": "code",
   "execution_count": 34,
   "id": "2acd54b4-10dc-484c-ba32-587bdff8edbf",
   "metadata": {},
   "outputs": [
    {
     "data": {
      "text/plain": [
       "1"
      ]
     },
     "execution_count": 34,
     "metadata": {},
     "output_type": "execute_result"
    }
   ],
   "source": [
    "# GÖREV 3: Çıktıyı PRICE'a göre sıralayınız.\n",
    "#############################################\n",
    "# Önceki sorudaki çıktıyı daha iyi görebilmek için sort_values metodunu azalan olacak şekilde PRICE'a uygulayınız.\n",
    "# Çıktıyı agg_df olarak kaydediniz.\n",
    "\n",
    "agg_df.sort_values('PRICE', ascending=False)\n",
    "\n",
    "len(agg_df.columns)"
   ]
  },
  {
   "cell_type": "code",
   "execution_count": 35,
   "id": "48df665a-16c2-4a19-8d84-bd9562b7a60b",
   "metadata": {},
   "outputs": [
    {
     "data": {
      "text/plain": [
       "Index(['COUNTRY', 'SOURCE', 'SEX', 'AGE', 'PRICE'], dtype='object')"
      ]
     },
     "execution_count": 35,
     "metadata": {},
     "output_type": "execute_result"
    }
   ],
   "source": [
    "# GÖREV 4: Indekste yer alan isimleri değişken ismine çeviriniz.\n",
    "#############################################\n",
    "# Üçüncü sorunun çıktısında yer alan PRICE dışındaki tüm değişkenler index isimleridir.\n",
    "# Bu isimleri değişken isimlerine çeviriniz.\n",
    "# İpucu: reset_index()\n",
    "# agg_df.reset_index(inplace=True)\n",
    "\n",
    "agg_df = agg_df.reset_index()\n",
    "agg_df.columns"
   ]
  },
  {
   "cell_type": "code",
   "execution_count": 36,
   "id": "8bdb029b-2070-44a2-9915-319945e42ca6",
   "metadata": {},
   "outputs": [
    {
     "data": {
      "text/html": [
       "<div>\n",
       "<style scoped>\n",
       "    .dataframe tbody tr th:only-of-type {\n",
       "        vertical-align: middle;\n",
       "    }\n",
       "\n",
       "    .dataframe tbody tr th {\n",
       "        vertical-align: top;\n",
       "    }\n",
       "\n",
       "    .dataframe thead th {\n",
       "        text-align: right;\n",
       "    }\n",
       "</style>\n",
       "<table border=\"1\" class=\"dataframe\">\n",
       "  <thead>\n",
       "    <tr style=\"text-align: right;\">\n",
       "      <th></th>\n",
       "      <th>COUNTRY</th>\n",
       "      <th>SOURCE</th>\n",
       "      <th>SEX</th>\n",
       "      <th>AGE</th>\n",
       "      <th>PRICE</th>\n",
       "      <th>AGE_CAT</th>\n",
       "    </tr>\n",
       "  </thead>\n",
       "  <tbody>\n",
       "    <tr>\n",
       "      <th>0</th>\n",
       "      <td>bra</td>\n",
       "      <td>android</td>\n",
       "      <td>female</td>\n",
       "      <td>15</td>\n",
       "      <td>38.714286</td>\n",
       "      <td>0_18</td>\n",
       "    </tr>\n",
       "    <tr>\n",
       "      <th>1</th>\n",
       "      <td>bra</td>\n",
       "      <td>android</td>\n",
       "      <td>female</td>\n",
       "      <td>16</td>\n",
       "      <td>35.944444</td>\n",
       "      <td>0_18</td>\n",
       "    </tr>\n",
       "    <tr>\n",
       "      <th>2</th>\n",
       "      <td>bra</td>\n",
       "      <td>android</td>\n",
       "      <td>female</td>\n",
       "      <td>17</td>\n",
       "      <td>35.666667</td>\n",
       "      <td>0_18</td>\n",
       "    </tr>\n",
       "    <tr>\n",
       "      <th>3</th>\n",
       "      <td>bra</td>\n",
       "      <td>android</td>\n",
       "      <td>female</td>\n",
       "      <td>18</td>\n",
       "      <td>32.255814</td>\n",
       "      <td>0_18</td>\n",
       "    </tr>\n",
       "    <tr>\n",
       "      <th>4</th>\n",
       "      <td>bra</td>\n",
       "      <td>android</td>\n",
       "      <td>female</td>\n",
       "      <td>19</td>\n",
       "      <td>35.206897</td>\n",
       "      <td>19_23</td>\n",
       "    </tr>\n",
       "  </tbody>\n",
       "</table>\n",
       "</div>"
      ],
      "text/plain": [
       "  COUNTRY   SOURCE     SEX  AGE      PRICE AGE_CAT\n",
       "0     bra  android  female   15  38.714286    0_18\n",
       "1     bra  android  female   16  35.944444    0_18\n",
       "2     bra  android  female   17  35.666667    0_18\n",
       "3     bra  android  female   18  32.255814    0_18\n",
       "4     bra  android  female   19  35.206897   19_23"
      ]
     },
     "execution_count": 36,
     "metadata": {},
     "output_type": "execute_result"
    }
   ],
   "source": [
    "# GÖREV 5: AGE değişkenini kategorik değişkene çeviriniz ve agg_df'e ekleyiniz.\n",
    "#############################################\n",
    "# Age sayısal değişkenini kategorik değişkene çeviriniz.\n",
    "# Aralıkları ikna edici olacağını düşündüğünüz şekilde oluşturunuz.\n",
    "# Örneğin: '0_18', '19_23', '24_30', '31_40', '41_70'\n",
    "\n",
    "# AGE değişkeninin nerelerden bölüneceğini belirtelim:\n",
    "\n",
    "my_bins = [0, 18, 23, 30, 40, agg_df[\"AGE\"].max()]\n",
    "\n",
    "# Bölünen noktalara karşılık isimlendirmelerin ne olacağını ifade edelim:\n",
    "\n",
    "mylabels = [\"0_18\", \"19_23\", \"24_30\", \"31_40\", \"41_\" + str(agg_df[\"AGE\"].max())]\n",
    "# mylabels = [\"0_18\", \"19_23\", \"24_30\", \"31_40\", f'41_{agg_df[\"AGE\"].max()}']\n",
    "\n",
    "# age'i bölelim:\n",
    "pd.cut(agg_df[\"AGE\"], bins=my_bins, labels=mylabels)\n",
    "\n",
    "agg_df[\"AGE_CAT\"] = pd.cut(agg_df[\"AGE\"], bins=my_bins, labels=mylabels)\n",
    "agg_df.head()"
   ]
  },
  {
   "cell_type": "code",
   "execution_count": 41,
   "id": "304cdb70-1694-4bba-aa28-263ea95b4e0d",
   "metadata": {},
   "outputs": [
    {
     "data": {
      "text/html": [
       "<div>\n",
       "<style scoped>\n",
       "    .dataframe tbody tr th:only-of-type {\n",
       "        vertical-align: middle;\n",
       "    }\n",
       "\n",
       "    .dataframe tbody tr th {\n",
       "        vertical-align: top;\n",
       "    }\n",
       "\n",
       "    .dataframe thead th {\n",
       "        text-align: right;\n",
       "    }\n",
       "</style>\n",
       "<table border=\"1\" class=\"dataframe\">\n",
       "  <thead>\n",
       "    <tr style=\"text-align: right;\">\n",
       "      <th></th>\n",
       "      <th>COUNTRY</th>\n",
       "      <th>SOURCE</th>\n",
       "      <th>SEX</th>\n",
       "      <th>AGE</th>\n",
       "      <th>PRICE</th>\n",
       "      <th>AGE_CAT</th>\n",
       "      <th>CUSTOMERS_LEVEL_BASED</th>\n",
       "    </tr>\n",
       "  </thead>\n",
       "  <tbody>\n",
       "    <tr>\n",
       "      <th>0</th>\n",
       "      <td>bra</td>\n",
       "      <td>android</td>\n",
       "      <td>female</td>\n",
       "      <td>15</td>\n",
       "      <td>38.714286</td>\n",
       "      <td>0_18</td>\n",
       "      <td>BRA_ANDROID_FEMALE_0_18_BRA_ANDROID_FEMALE_0_18</td>\n",
       "    </tr>\n",
       "    <tr>\n",
       "      <th>1</th>\n",
       "      <td>bra</td>\n",
       "      <td>android</td>\n",
       "      <td>female</td>\n",
       "      <td>16</td>\n",
       "      <td>35.944444</td>\n",
       "      <td>0_18</td>\n",
       "      <td>BRA_ANDROID_FEMALE_0_18_BRA_ANDROID_FEMALE_0_18</td>\n",
       "    </tr>\n",
       "    <tr>\n",
       "      <th>2</th>\n",
       "      <td>bra</td>\n",
       "      <td>android</td>\n",
       "      <td>female</td>\n",
       "      <td>17</td>\n",
       "      <td>35.666667</td>\n",
       "      <td>0_18</td>\n",
       "      <td>BRA_ANDROID_FEMALE_0_18_BRA_ANDROID_FEMALE_0_18</td>\n",
       "    </tr>\n",
       "    <tr>\n",
       "      <th>3</th>\n",
       "      <td>bra</td>\n",
       "      <td>android</td>\n",
       "      <td>female</td>\n",
       "      <td>18</td>\n",
       "      <td>32.255814</td>\n",
       "      <td>0_18</td>\n",
       "      <td>BRA_ANDROID_FEMALE_0_18_BRA_ANDROID_FEMALE_0_18</td>\n",
       "    </tr>\n",
       "    <tr>\n",
       "      <th>4</th>\n",
       "      <td>bra</td>\n",
       "      <td>android</td>\n",
       "      <td>female</td>\n",
       "      <td>19</td>\n",
       "      <td>35.206897</td>\n",
       "      <td>19_23</td>\n",
       "      <td>BRA_ANDROID_FEMALE_19_23_BRA_ANDROID_FEMALE_19_23</td>\n",
       "    </tr>\n",
       "  </tbody>\n",
       "</table>\n",
       "</div>"
      ],
      "text/plain": [
       "  COUNTRY   SOURCE     SEX  AGE      PRICE AGE_CAT  \\\n",
       "0     bra  android  female   15  38.714286    0_18   \n",
       "1     bra  android  female   16  35.944444    0_18   \n",
       "2     bra  android  female   17  35.666667    0_18   \n",
       "3     bra  android  female   18  32.255814    0_18   \n",
       "4     bra  android  female   19  35.206897   19_23   \n",
       "\n",
       "                               CUSTOMERS_LEVEL_BASED  \n",
       "0    BRA_ANDROID_FEMALE_0_18_BRA_ANDROID_FEMALE_0_18  \n",
       "1    BRA_ANDROID_FEMALE_0_18_BRA_ANDROID_FEMALE_0_18  \n",
       "2    BRA_ANDROID_FEMALE_0_18_BRA_ANDROID_FEMALE_0_18  \n",
       "3    BRA_ANDROID_FEMALE_0_18_BRA_ANDROID_FEMALE_0_18  \n",
       "4  BRA_ANDROID_FEMALE_19_23_BRA_ANDROID_FEMALE_19_23  "
      ]
     },
     "execution_count": 41,
     "metadata": {},
     "output_type": "execute_result"
    }
   ],
   "source": [
    "# GÖREV 6: Yeni level based müşterileri tanımlayınız ve veri setine değişken olarak ekleyiniz.\n",
    "#############################################\n",
    "# customers_level_based adında bir değişken tanımlayınız ve veri setine bu değişkeni ekleyiniz.\n",
    "# Dikkat!\n",
    "# list comp ile customers_level_based değerleri oluşturulduktan sonra bu değerlerin tekilleştirilmesi gerekmektedir.\n",
    "# Örneğin birden fazla şu ifadeden olabilir: USA_ANDROID_MALE_0_18\n",
    "# Bunları groupby'a alıp price ortalamalarını almak gerekmektedir.\n",
    "\n",
    "agg_df.drop([\"AGE\", \"PRICE\"], axis=1).values\n",
    "\n",
    "liste = [\"A\", \"B\", \"C\"]\n",
    "\n",
    "agg_df[\"CUSTOMERS_LEVEL_BASED\"] = [\"_\".join(i).upper() for i in agg_df.drop(['AGE', 'PRICE'], axis=1).values]\n",
    "agg_df.head()"
   ]
  },
  {
   "cell_type": "code",
   "execution_count": 43,
   "id": "1a990a15-1a26-4fe3-a7b8-9d1c9612f139",
   "metadata": {},
   "outputs": [
    {
     "data": {
      "text/html": [
       "<div>\n",
       "<style scoped>\n",
       "    .dataframe tbody tr th:only-of-type {\n",
       "        vertical-align: middle;\n",
       "    }\n",
       "\n",
       "    .dataframe tbody tr th {\n",
       "        vertical-align: top;\n",
       "    }\n",
       "\n",
       "    .dataframe thead th {\n",
       "        text-align: right;\n",
       "    }\n",
       "</style>\n",
       "<table border=\"1\" class=\"dataframe\">\n",
       "  <thead>\n",
       "    <tr style=\"text-align: right;\">\n",
       "      <th></th>\n",
       "      <th>CUSTOMERS_LEVEL_BASED</th>\n",
       "      <th>PRICE</th>\n",
       "    </tr>\n",
       "  </thead>\n",
       "  <tbody>\n",
       "    <tr>\n",
       "      <th>0</th>\n",
       "      <td>BRA_ANDROID_FEMALE_0_18_BRA_ANDROID_FEMALE_0_18</td>\n",
       "      <td>35.645303</td>\n",
       "    </tr>\n",
       "    <tr>\n",
       "      <th>1</th>\n",
       "      <td>BRA_ANDROID_FEMALE_19_23_BRA_ANDROID_FEMALE_19_23</td>\n",
       "      <td>34.077340</td>\n",
       "    </tr>\n",
       "    <tr>\n",
       "      <th>2</th>\n",
       "      <td>BRA_ANDROID_FEMALE_24_30_BRA_ANDROID_FEMALE_24_30</td>\n",
       "      <td>33.863946</td>\n",
       "    </tr>\n",
       "    <tr>\n",
       "      <th>3</th>\n",
       "      <td>BRA_ANDROID_FEMALE_31_40_BRA_ANDROID_FEMALE_31_40</td>\n",
       "      <td>34.898326</td>\n",
       "    </tr>\n",
       "    <tr>\n",
       "      <th>4</th>\n",
       "      <td>BRA_ANDROID_FEMALE_41_66_BRA_ANDROID_FEMALE_41_66</td>\n",
       "      <td>36.737179</td>\n",
       "    </tr>\n",
       "  </tbody>\n",
       "</table>\n",
       "</div>"
      ],
      "text/plain": [
       "                               CUSTOMERS_LEVEL_BASED      PRICE\n",
       "0    BRA_ANDROID_FEMALE_0_18_BRA_ANDROID_FEMALE_0_18  35.645303\n",
       "1  BRA_ANDROID_FEMALE_19_23_BRA_ANDROID_FEMALE_19_23  34.077340\n",
       "2  BRA_ANDROID_FEMALE_24_30_BRA_ANDROID_FEMALE_24_30  33.863946\n",
       "3  BRA_ANDROID_FEMALE_31_40_BRA_ANDROID_FEMALE_31_40  34.898326\n",
       "4  BRA_ANDROID_FEMALE_41_66_BRA_ANDROID_FEMALE_41_66  36.737179"
      ]
     },
     "execution_count": 43,
     "metadata": {},
     "output_type": "execute_result"
    }
   ],
   "source": [
    "# Gereksiz değişkenleri çıkaralım:\n",
    "\n",
    "agg_df = agg_df[['CUSTOMERS_LEVEL_BASED', 'PRICE']]\n",
    "\n",
    "agg_df = agg_df.groupby('CUSTOMERS_LEVEL_BASED')['PRICE'].mean().reset_index()\n",
    "\n",
    "agg_df.head()"
   ]
  },
  {
   "cell_type": "code",
   "execution_count": 45,
   "id": "c30e3a36-18d4-47c9-8f4e-9e089035a955",
   "metadata": {},
   "outputs": [
    {
     "data": {
      "text/html": [
       "<div>\n",
       "<style scoped>\n",
       "    .dataframe tbody tr th:only-of-type {\n",
       "        vertical-align: middle;\n",
       "    }\n",
       "\n",
       "    .dataframe tbody tr th {\n",
       "        vertical-align: top;\n",
       "    }\n",
       "\n",
       "    .dataframe thead th {\n",
       "        text-align: right;\n",
       "    }\n",
       "</style>\n",
       "<table border=\"1\" class=\"dataframe\">\n",
       "  <thead>\n",
       "    <tr style=\"text-align: right;\">\n",
       "      <th></th>\n",
       "      <th>CUSTOMERS_LEVEL_BASED</th>\n",
       "      <th>PRICE</th>\n",
       "      <th>SEGMENT</th>\n",
       "    </tr>\n",
       "  </thead>\n",
       "  <tbody>\n",
       "    <tr>\n",
       "      <th>0</th>\n",
       "      <td>BRA_ANDROID_FEMALE_0_18_BRA_ANDROID_FEMALE_0_18</td>\n",
       "      <td>35.645303</td>\n",
       "      <td>B</td>\n",
       "    </tr>\n",
       "    <tr>\n",
       "      <th>1</th>\n",
       "      <td>BRA_ANDROID_FEMALE_19_23_BRA_ANDROID_FEMALE_19_23</td>\n",
       "      <td>34.077340</td>\n",
       "      <td>C</td>\n",
       "    </tr>\n",
       "    <tr>\n",
       "      <th>2</th>\n",
       "      <td>BRA_ANDROID_FEMALE_24_30_BRA_ANDROID_FEMALE_24_30</td>\n",
       "      <td>33.863946</td>\n",
       "      <td>C</td>\n",
       "    </tr>\n",
       "    <tr>\n",
       "      <th>3</th>\n",
       "      <td>BRA_ANDROID_FEMALE_31_40_BRA_ANDROID_FEMALE_31_40</td>\n",
       "      <td>34.898326</td>\n",
       "      <td>B</td>\n",
       "    </tr>\n",
       "    <tr>\n",
       "      <th>4</th>\n",
       "      <td>BRA_ANDROID_FEMALE_41_66_BRA_ANDROID_FEMALE_41_66</td>\n",
       "      <td>36.737179</td>\n",
       "      <td>A</td>\n",
       "    </tr>\n",
       "  </tbody>\n",
       "</table>\n",
       "</div>"
      ],
      "text/plain": [
       "                               CUSTOMERS_LEVEL_BASED      PRICE SEGMENT\n",
       "0    BRA_ANDROID_FEMALE_0_18_BRA_ANDROID_FEMALE_0_18  35.645303       B\n",
       "1  BRA_ANDROID_FEMALE_19_23_BRA_ANDROID_FEMALE_19_23  34.077340       C\n",
       "2  BRA_ANDROID_FEMALE_24_30_BRA_ANDROID_FEMALE_24_30  33.863946       C\n",
       "3  BRA_ANDROID_FEMALE_31_40_BRA_ANDROID_FEMALE_31_40  34.898326       B\n",
       "4  BRA_ANDROID_FEMALE_41_66_BRA_ANDROID_FEMALE_41_66  36.737179       A"
      ]
     },
     "execution_count": 45,
     "metadata": {},
     "output_type": "execute_result"
    }
   ],
   "source": [
    "# GÖREV 7: Yeni müşterileri (USA_ANDROID_MALE_0_18) segmentlere ayırınız.\n",
    "#############################################\n",
    "# PRICE'a göre segmentlere ayırınız,\n",
    "# segmentleri \"SEGMENT\" isimlendirmesi ile agg_df'e ekleyiniz,\n",
    "# segmentleri betimleyiniz, GÖREV 7: Yeni müşterileri (USA_ANDROID_MALE_0_18) segmentlere ayırınız.\n",
    "#############################################\n",
    "# PRICE'a göre segmentlere ayırınız,\n",
    "# segmentleri \"SEGMENT\" isimlendirmesi ile agg_df'e ekleyiniz,\n",
    "# segmentleri betimleyiniz\n",
    "\n",
    "agg_df[\"SEGMENT\"] = pd.qcut(agg_df.PRICE, q = 4, labels = [\"D\",\"C\",\"B\",\"A\"])\n",
    "agg_df.head()"
   ]
  },
  {
   "cell_type": "code",
   "execution_count": 65,
   "id": "1b6d9d25-fd84-48b2-be5b-ae28d08569d3",
   "metadata": {},
   "outputs": [
    {
     "data": {
      "text/html": [
       "<div>\n",
       "<style scoped>\n",
       "    .dataframe tbody tr th:only-of-type {\n",
       "        vertical-align: middle;\n",
       "    }\n",
       "\n",
       "    .dataframe tbody tr th {\n",
       "        vertical-align: top;\n",
       "    }\n",
       "\n",
       "    .dataframe thead tr th {\n",
       "        text-align: left;\n",
       "    }\n",
       "\n",
       "    .dataframe thead tr:last-of-type th {\n",
       "        text-align: right;\n",
       "    }\n",
       "</style>\n",
       "<table border=\"1\" class=\"dataframe\">\n",
       "  <thead>\n",
       "    <tr>\n",
       "      <th></th>\n",
       "      <th colspan=\"3\" halign=\"left\">PRICE</th>\n",
       "    </tr>\n",
       "    <tr>\n",
       "      <th></th>\n",
       "      <th>mean</th>\n",
       "      <th>max</th>\n",
       "      <th>sum</th>\n",
       "    </tr>\n",
       "    <tr>\n",
       "      <th>SEGMENT</th>\n",
       "      <th></th>\n",
       "      <th></th>\n",
       "      <th></th>\n",
       "    </tr>\n",
       "  </thead>\n",
       "  <tbody>\n",
       "    <tr>\n",
       "      <th>D</th>\n",
       "      <td>29.206780</td>\n",
       "      <td>32.333333</td>\n",
       "      <td>817.789833</td>\n",
       "    </tr>\n",
       "    <tr>\n",
       "      <th>C</th>\n",
       "      <td>33.509674</td>\n",
       "      <td>34.077340</td>\n",
       "      <td>904.761209</td>\n",
       "    </tr>\n",
       "    <tr>\n",
       "      <th>B</th>\n",
       "      <td>34.999645</td>\n",
       "      <td>36.000000</td>\n",
       "      <td>944.990411</td>\n",
       "    </tr>\n",
       "    <tr>\n",
       "      <th>A</th>\n",
       "      <td>38.691234</td>\n",
       "      <td>45.428571</td>\n",
       "      <td>1044.663328</td>\n",
       "    </tr>\n",
       "  </tbody>\n",
       "</table>\n",
       "</div>"
      ],
      "text/plain": [
       "             PRICE                        \n",
       "              mean        max          sum\n",
       "SEGMENT                                   \n",
       "D        29.206780  32.333333   817.789833\n",
       "C        33.509674  34.077340   904.761209\n",
       "B        34.999645  36.000000   944.990411\n",
       "A        38.691234  45.428571  1044.663328"
      ]
     },
     "execution_count": 65,
     "metadata": {},
     "output_type": "execute_result"
    }
   ],
   "source": [
    "agg_df.groupby(\"SEGMENT\").agg({\"PRICE\":[\"mean\",\"max\",\"sum\"]})"
   ]
  },
  {
   "cell_type": "code",
   "execution_count": 66,
   "id": "366922f7-58d8-445e-a3fa-0464ea5d592f",
   "metadata": {},
   "outputs": [
    {
     "data": {
      "text/html": [
       "<div>\n",
       "<style scoped>\n",
       "    .dataframe tbody tr th:only-of-type {\n",
       "        vertical-align: middle;\n",
       "    }\n",
       "\n",
       "    .dataframe tbody tr th {\n",
       "        vertical-align: top;\n",
       "    }\n",
       "\n",
       "    .dataframe thead th {\n",
       "        text-align: right;\n",
       "    }\n",
       "</style>\n",
       "<table border=\"1\" class=\"dataframe\">\n",
       "  <thead>\n",
       "    <tr style=\"text-align: right;\">\n",
       "      <th></th>\n",
       "      <th>CUSTOMERS_LEVEL_BASED</th>\n",
       "      <th>PRICE</th>\n",
       "      <th>SEGMENT</th>\n",
       "    </tr>\n",
       "  </thead>\n",
       "  <tbody>\n",
       "  </tbody>\n",
       "</table>\n",
       "</div>"
      ],
      "text/plain": [
       "Empty DataFrame\n",
       "Columns: [CUSTOMERS_LEVEL_BASED, PRICE, SEGMENT]\n",
       "Index: []"
      ]
     },
     "execution_count": 66,
     "metadata": {},
     "output_type": "execute_result"
    }
   ],
   "source": [
    "# GÖREV 8: Yeni gelen müşterileri sınıflandırıp, ne kadar gelir getirebileceklerini tahmin ediniz.\n",
    "new_user = \"TUR_ANDROID_FEMALE_31_40\"\n",
    "agg_df[agg_df[\"CUSTOMERS_LEVEL_BASED\"] == new_user]\n"
   ]
  },
  {
   "cell_type": "code",
   "execution_count": 69,
   "id": "3172b0fa-7618-4f11-bd35-57035b64eda9",
   "metadata": {},
   "outputs": [
    {
     "data": {
      "text/html": [
       "<div>\n",
       "<style scoped>\n",
       "    .dataframe tbody tr th:only-of-type {\n",
       "        vertical-align: middle;\n",
       "    }\n",
       "\n",
       "    .dataframe tbody tr th {\n",
       "        vertical-align: top;\n",
       "    }\n",
       "\n",
       "    .dataframe thead th {\n",
       "        text-align: right;\n",
       "    }\n",
       "</style>\n",
       "<table border=\"1\" class=\"dataframe\">\n",
       "  <thead>\n",
       "    <tr style=\"text-align: right;\">\n",
       "      <th></th>\n",
       "      <th>CUSTOMERS_LEVEL_BASED</th>\n",
       "      <th>PRICE</th>\n",
       "      <th>SEGMENT</th>\n",
       "    </tr>\n",
       "  </thead>\n",
       "  <tbody>\n",
       "  </tbody>\n",
       "</table>\n",
       "</div>"
      ],
      "text/plain": [
       "Empty DataFrame\n",
       "Columns: [CUSTOMERS_LEVEL_BASED, PRICE, SEGMENT]\n",
       "Index: []"
      ]
     },
     "execution_count": 69,
     "metadata": {},
     "output_type": "execute_result"
    }
   ],
   "source": [
    "new_user = \"FRA_IOS_FEMALE_31_40\"\n",
    "agg_df[agg_df[\"CUSTOMERS_LEVEL_BASED\"] == \"FRA_IOS_FEMALE_31_40\"]"
   ]
  },
  {
   "cell_type": "code",
   "execution_count": null,
   "id": "a252c9d2-e74a-4ec9-b4b2-37186e445716",
   "metadata": {},
   "outputs": [],
   "source": []
  }
 ],
 "metadata": {
  "kernelspec": {
   "display_name": "Python 3 (ipykernel)",
   "language": "python",
   "name": "python3"
  },
  "language_info": {
   "codemirror_mode": {
    "name": "ipython",
    "version": 3
   },
   "file_extension": ".py",
   "mimetype": "text/x-python",
   "name": "python",
   "nbconvert_exporter": "python",
   "pygments_lexer": "ipython3",
   "version": "3.10.9"
  }
 },
 "nbformat": 4,
 "nbformat_minor": 5
}
