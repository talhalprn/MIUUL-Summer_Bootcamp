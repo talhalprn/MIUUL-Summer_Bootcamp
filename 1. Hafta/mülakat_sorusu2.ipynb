{
 "cells": [
  {
   "cell_type": "markdown",
   "id": "d051b718-e19e-4f45-b909-b81d1bc73cfe",
   "metadata": {},
   "source": [
    "## Mülakat sorusu 2 \n",
    "* divide_students fonk. yazınız\n",
    "* çift indexte yer alanları bir listeye alınız.\n",
    "* tek indexte yer alanları başka bir listeye alınız.\n",
    "* Fakat bu iki liste tek bir liste olarak return olsun."
   ]
  },
  {
   "cell_type": "code",
   "execution_count": 2,
   "id": "1e824099-c0b7-4abf-a070-0efdf494b208",
   "metadata": {},
   "outputs": [],
   "source": [
    "students = [\"Alperen\",\"Ahmet\",\"Mehmet\",\"Ali\"]"
   ]
  },
  {
   "cell_type": "code",
   "execution_count": 3,
   "id": "30c2265a-f633-4eb2-a07d-0092f30f506a",
   "metadata": {},
   "outputs": [],
   "source": [
    "def divide_students(students):\n",
    "    groups = [[],[]]\n",
    "    \n",
    "    for index,student in enumerate(students):\n",
    "        if index % 2 == 0:\n",
    "            groups[0].append(student)\n",
    "        else:\n",
    "            groups[1].append(student)\n",
    "    print(groups)\n",
    "    return groups\n",
    "    "
   ]
  },
  {
   "cell_type": "code",
   "execution_count": 4,
   "id": "0ac9cdd8-dd83-483f-97b0-ea64da833011",
   "metadata": {},
   "outputs": [
    {
     "name": "stdout",
     "output_type": "stream",
     "text": [
      "[['Alperen', 'Mehmet'], ['Ahmet', 'Ali']]\n"
     ]
    },
    {
     "data": {
      "text/plain": [
       "[['Alperen', 'Mehmet'], ['Ahmet', 'Ali']]"
      ]
     },
     "execution_count": 4,
     "metadata": {},
     "output_type": "execute_result"
    }
   ],
   "source": [
    "divide_students(students)"
   ]
  },
  {
   "cell_type": "code",
   "execution_count": 6,
   "id": "0253ac82-d57b-4a10-bb36-657f2d5c814c",
   "metadata": {},
   "outputs": [
    {
     "name": "stdout",
     "output_type": "stream",
     "text": [
      "[['Alperen', 'Mehmet'], ['Ahmet', 'Ali']]\n"
     ]
    },
    {
     "data": {
      "text/plain": [
       "['Alperen', 'Mehmet']"
      ]
     },
     "execution_count": 6,
     "metadata": {},
     "output_type": "execute_result"
    }
   ],
   "source": [
    "st =divide_students(students)\n",
    "\n",
    "st[0]"
   ]
  },
  {
   "cell_type": "code",
   "execution_count": 7,
   "id": "c7f2162d-31d3-4b30-8bab-b12d49649a2f",
   "metadata": {},
   "outputs": [
    {
     "data": {
      "text/plain": [
       "['Alperen', 'Mehmet']"
      ]
     },
     "execution_count": 7,
     "metadata": {},
     "output_type": "execute_result"
    }
   ],
   "source": [
    "st[0]"
   ]
  },
  {
   "cell_type": "code",
   "execution_count": 8,
   "id": "61694b3f-2087-43c2-8b37-264e24cf6fc7",
   "metadata": {},
   "outputs": [
    {
     "data": {
      "text/plain": [
       "['Ahmet', 'Ali']"
      ]
     },
     "execution_count": 8,
     "metadata": {},
     "output_type": "execute_result"
    }
   ],
   "source": [
    "st[1]"
   ]
  },
  {
   "cell_type": "code",
   "execution_count": null,
   "id": "8032fda3-6f17-4f6f-a8a4-80ef7483b047",
   "metadata": {},
   "outputs": [],
   "source": []
  }
 ],
 "metadata": {
  "kernelspec": {
   "display_name": "Python 3 (ipykernel)",
   "language": "python",
   "name": "python3"
  },
  "language_info": {
   "codemirror_mode": {
    "name": "ipython",
    "version": 3
   },
   "file_extension": ".py",
   "mimetype": "text/x-python",
   "name": "python",
   "nbconvert_exporter": "python",
   "pygments_lexer": "ipython3",
   "version": "3.10.9"
  }
 },
 "nbformat": 4,
 "nbformat_minor": 5
}
