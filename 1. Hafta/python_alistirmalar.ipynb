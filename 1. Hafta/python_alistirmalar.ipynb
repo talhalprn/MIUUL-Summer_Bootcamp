{
 "cells": [
  {
   "cell_type": "markdown",
   "id": "523f7f30-08b6-4543-94f0-5323813293c1",
   "metadata": {},
   "source": [
    "# 1) Miuul-Python Alıştırmalar"
   ]
  },
  {
   "cell_type": "code",
   "execution_count": 1,
   "id": "2a7700bd-eb9f-446b-a34f-8639cda2f939",
   "metadata": {},
   "outputs": [],
   "source": [
    "# Görev1 : Verilen değerlerin veri yapılarını inceleyiniz.\n",
    "\n",
    "x = 8\n",
    "\n",
    "y = 3.2\n",
    "\n",
    "z = 8j+18\n",
    "\n",
    "a = \"Hello World\"\n",
    "\n",
    "b = True\n",
    "\n",
    "c = 23 < 22\n",
    "\n",
    "l = [1, 2, 3, 4]\n",
    "\n",
    "d = {\"Name\": \"Jake\", \"Age\" : 27,\n",
    "\"Adress\": \"Downtown\"}\n",
    "\n",
    "t = (\"Machine Learning\", \"Data Science\")\n",
    "\n",
    "s = {\"Python\", \"Machine Learning\", \"Data Science\"}"
   ]
  },
  {
   "cell_type": "code",
   "execution_count": 7,
   "id": "f92bbc53-8283-4d24-b2b7-2660b143c59e",
   "metadata": {},
   "outputs": [
    {
     "name": "stdout",
     "output_type": "stream",
     "text": [
      "<class 'int'>\n",
      "<class 'float'>\n",
      "<class 'complex'>\n",
      "<class 'str'>\n",
      "<class 'bool'>\n",
      "<class 'bool'>\n",
      "<class 'list'>\n",
      "<class 'dict'>\n",
      "<class 'tuple'>\n",
      "<class 'set'>\n"
     ]
    }
   ],
   "source": [
    "#Çözüm1:\n",
    "print(type(x))\n",
    "print(type(y))\n",
    "print(type(z))\n",
    "print(type(a))\n",
    "print(type(b))\n",
    "print(type(c))\n",
    "print(type(l))\n",
    "print(type(d))\n",
    "print(type(t))\n",
    "print(type(s))"
   ]
  },
  {
   "cell_type": "code",
   "execution_count": 12,
   "id": "1654dc49-ed9c-42ed-9fbd-3f1a04779d9b",
   "metadata": {},
   "outputs": [],
   "source": [
    "# Görev 2:  Verilen string ifadenin tüm harflerini büyük harfe çeviriniz.\n",
    "\n",
    "# Virgül ve nokta yerine space koyunuz, kelime kelime ayırınız.\n",
    "\n",
    "text = \"The goal is to turn data into information, and information into insight.\""
   ]
  },
  {
   "cell_type": "code",
   "execution_count": 11,
   "id": "c912d561-a219-4bc7-925d-19aec324db7b",
   "metadata": {},
   "outputs": [
    {
     "name": "stdout",
     "output_type": "stream",
     "text": [
      "['THE', 'GOAL', 'IS', 'TO', 'TURN', 'DATA', 'INTO', 'INFORMATION', 'AND', 'INFORMATION', 'INTO', 'INSIGHT']\n"
     ]
    }
   ],
   "source": [
    "# Çözüm 2:\n",
    "print(text.upper().replace(\",\",\"\").replace(\".\",\"\").split())"
   ]
  },
  {
   "cell_type": "code",
   "execution_count": 25,
   "id": "8a57b7e5-79cc-4766-93ed-01b7d767cad2",
   "metadata": {},
   "outputs": [
    {
     "name": "stdout",
     "output_type": "stream",
     "text": [
      "listenin eleman sayısı : 11\n",
      "listenin sıfırıncı indeksi : D, onuncu indeksi : E\n",
      "['D', 'A', 'T', 'A']\n",
      "['D', 'A', 'T', 'A', 'S', 'C', 'I', 'E', 'C', 'E']\n"
     ]
    },
    {
     "data": {
      "text/plain": [
       "['D', 'A', 'T', 'A', 'S', 'C', 'I', 'E', 'N', 'C', 'E', 'X']"
      ]
     },
     "execution_count": 25,
     "metadata": {},
     "output_type": "execute_result"
    }
   ],
   "source": [
    "# Görev 3 - Verilen listeye aşağıdaki adımları uygulayınız.\n",
    "\n",
    "lst = [\"D\", \"A\", \"T\", \"A\", \"S\", \"C\", \"I\", \"E\", \"N\", \"C\", \"E\"]\n",
    "\n",
    "#Adım 1 : Verilen listenin eleman sayısına bakınız\n",
    "print(f\"listenin eleman sayısı : {len(lst)}\")\n",
    "\n",
    "# Adım 2: Sıfırıncı ve onuncu indeksteki elemanlarını çağırınız.\n",
    "print(f\"listenin sıfırıncı indeksi : {lst[0]}, onuncu indeksi : {lst[10]}\")\n",
    "\n",
    "# Adım 3: Verilen liste üzerinden [\"D\",\"A\",\"T\",\"A\"] listesini oluşturunuz.\n",
    "print(lst[:4])\n",
    "\n",
    "# Adım 4: Sekizinci indeksteki elemanı siliniz.\n",
    "lst.pop(8)\n",
    "print(lst)\n",
    "\n",
    "# Adım 5: Yeni bir eleman ekleyiniz.\n",
    "lst.append(\"X\")\n",
    "lst\n",
    "\n",
    "# Adım 6: Sekizinci indekse \"N\" elemanını tekrar ekleyiniz.\n",
    "lst.insert(8, \"N\")\n",
    "lst"
   ]
  },
  {
   "cell_type": "code",
   "execution_count": 35,
   "id": "8254dcda-0fa4-41a3-98b6-97a4b2e860d2",
   "metadata": {},
   "outputs": [
    {
     "name": "stdout",
     "output_type": "stream",
     "text": [
      "sözlüğün key değerleri : dict_keys(['Christian', 'Daisy', 'Antonio', 'Dante'])\n",
      "sözlüğün value değerleri : dict_values([['America', 18], ['England', 12], ['Spain', 22], ['Italy', 25]])\n"
     ]
    },
    {
     "data": {
      "text/plain": [
       "{'Christian': ['America', 18],\n",
       " 'Daisy': ['England', 13],\n",
       " 'Dante': ['Italy', 25],\n",
       " 'Ahmet': ['Turkey', 24]}"
      ]
     },
     "execution_count": 35,
     "metadata": {},
     "output_type": "execute_result"
    }
   ],
   "source": [
    "# Görev 4: Verilen sözlük yapısına aşağıdaki adımları uygulayınız.\n",
    "\n",
    "dict = {'Christian': [\"America\", 18],\n",
    "        'Daisy': [\"England\", 12],\n",
    "        'Antonio': [\"Spain\", 22],\n",
    "        'Dante': [\"Italy\", 25]}\n",
    "\n",
    "# Adım 1: Key değerlerin erişiniz.\n",
    "\n",
    "print(f\"sözlüğün key değerleri : {dict.keys()}\")\n",
    "\n",
    "# Adım 2: Value'lara erişiniz.\n",
    "\n",
    "print(f\"sözlüğün value değerleri : {dict.values()}\")\n",
    "\n",
    "# Adım 3: Daisy key'ine ait 12 değerini 13 olarak güncelleyiniz.\n",
    "\n",
    "dict[\"Daisy\"][1] = 13\n",
    "dict\n",
    "\n",
    "# Adım 4: Key değeri Ahmet value değeri [Turkey,24] olan yeni bir değer ekleyiniz.\n",
    "\n",
    "dict['Ahmet'] = ['Turkey',24]\n",
    "dict\n",
    "\n",
    "# Adım 5: Antonio'yu dictionary'den siliniz.\n",
    "\n",
    "dict.pop(\"Antonio\")\n",
    "dict"
   ]
  },
  {
   "cell_type": "code",
   "execution_count": 54,
   "id": "ebcb1ca0-4fc1-4624-9d82-63a608465086",
   "metadata": {},
   "outputs": [
    {
     "name": "stdout",
     "output_type": "stream",
     "text": [
      "[2, 18, 22] [13, 93]\n"
     ]
    }
   ],
   "source": [
    "# Görev 5: Argüman olarak bir liste alan, \n",
    "# listenin içerisindeki tek ve çift sayıları ayrı listelere atayan ve bu listeleri return eden fonksiyon yazınız.\n",
    "# ipucu: Liste elemanlarına tek tek erişmeniz gerekmektedir.\n",
    "# ipucu: Her bir elemanın çift veya tek olma durumunu kontrol etmekiçin  % yapısını kullanabilirsiniz.\n",
    "# l = [2,13,18,93,22]\n",
    "\n",
    "l = [2,13,18,93,22]\n",
    "\n",
    "def func(list):\n",
    "    even_list = []\n",
    "    odd_list = []\n",
    "    for i in list:\n",
    "        if i % 2 == 0:\n",
    "            even_list.append(i)\n",
    "        else:\n",
    "            odd_list.append(i)\n",
    "    return even_list, odd_list\n",
    "even_list, odd_list = func(l)\n",
    "print(even_list, odd_list)"
   ]
  },
  {
   "cell_type": "code",
   "execution_count": 55,
   "id": "de236c82-1f32-4df7-ba55-2eb5806f6281",
   "metadata": {},
   "outputs": [
    {
     "name": "stdout",
     "output_type": "stream",
     "text": [
      "Mühendislik Fakültesi 1 . öğrenci Ali\n",
      "Mühendislik Fakültesi 2 . öğrenci Veli\n",
      "Mühendislik Fakültesi 3 . öğrenci Ayşe\n",
      "Tıp Fakültesi 4 . öğrenci Talat\n",
      "Tıp Fakültesi 5 . öğrenci Zeynep\n",
      "Tıp Fakültesi 6 . öğrenci Ece\n"
     ]
    }
   ],
   "source": [
    "# Görev - 6: Aşağıda verilen listede mühendislik ve tıp fakültelerinde\n",
    "# dereceye giren öğrencilerin isimleri bulunmaktadır.\n",
    "# Sırasıyla ilk üç öğrenci mühendislik fakültesinin başarı sırasını temsil ederken\n",
    "# son üç öğrenci de tıp fakültesi öğrenci sırasına aittir.\n",
    "# Enumarate kullanarak öğrenci derecelerini fakülte özelinde yazdırınız.\n",
    "\n",
    "ogrenciler = [\"Ali\", \"Veli\", \"Ayşe\", \"Talat\", \"Zeynep\", \"Ece\"]\n",
    "\n",
    "for i, ogrenci in enumerate(ogrenciler,1):\n",
    "    \n",
    "    if i < 4:\n",
    "        print(\"Mühendislik Fakültesi\", i, \". öğrenci\", ogrenci)\n",
    "    \n",
    "    else:\n",
    "        print(\"Tıp Fakültesi\", i, \". öğrenci\", ogrenci)\n"
   ]
  },
  {
   "cell_type": "code",
   "execution_count": 56,
   "id": "bbee87d4-e639-4939-86e3-552ced091a1a",
   "metadata": {},
   "outputs": [
    {
     "data": {
      "text/plain": [
       "[('CMP1005', 3, 30),\n",
       " ('Psy1001', 4, 75),\n",
       " ('Huk1005', 2, 150),\n",
       " ('Sen2204', 4, 25)]"
      ]
     },
     "execution_count": 56,
     "metadata": {},
     "output_type": "execute_result"
    }
   ],
   "source": [
    "# Görev 7 - Aşağıda 3 adet liste verilmiştir.\n",
    "# Listelerde sırası ile bir dersin kodu, kredisi ve kontenjan bilgileri yer almaktadır.\n",
    "# Zip kullanarak ders bilgilerini bastırınız.\n",
    "\n",
    "ders_kodu = [\"CMP1005\", \"Psy1001\", \"Huk1005\", \"Sen2204\"]\n",
    "kredi = [3,4,2,4]\n",
    "kontenjan = [30,75,150,25]\n",
    "\n",
    "list(zip(ders_kodu, kredi, kontenjan))\n"
   ]
  },
  {
   "cell_type": "code",
   "execution_count": 57,
   "id": "12b6300d-b850-4fbf-a741-c4bded964f4c",
   "metadata": {},
   "outputs": [
    {
     "name": "stdout",
     "output_type": "stream",
     "text": [
      "{'lambda', 'miuul', 'qcut', 'function'}\n"
     ]
    }
   ],
   "source": [
    "# Görev 8 - Aşağıda 2 adet set verilmiştir. Sizden istenilen:\n",
    "# eğer 1. küme 2. kümeyi kapsiyor ise ortak elemanlarını\n",
    "# eğer kapsamıyor ise 2. kümenin 1. kümeden farkını yazdıracak fonksiyonu tanımlamanız beklenmektedir.\n",
    "\n",
    "kume1 = set([\"data\", \"python\"])\n",
    "kume2 = set([\"data\", \"function\", \"qcut\", \"lambda\", \"python\", \"miuul\"])\n",
    "\n",
    "def kume(set1,set2):\n",
    "    if set1.issuperset(set2):\n",
    "        print(set1.intersection(set2))\n",
    "    else:\n",
    "        print(set2.difference(set1))\n",
    "\n",
    "kume(kume1, kume2)"
   ]
  }
 ],
 "metadata": {
  "kernelspec": {
   "display_name": "Python 3 (ipykernel)",
   "language": "python",
   "name": "python3"
  },
  "language_info": {
   "codemirror_mode": {
    "name": "ipython",
    "version": 3
   },
   "file_extension": ".py",
   "mimetype": "text/x-python",
   "name": "python",
   "nbconvert_exporter": "python",
   "pygments_lexer": "ipython3",
   "version": "3.10.9"
  }
 },
 "nbformat": 4,
 "nbformat_minor": 5
}
