{
 "cells": [
  {
   "cell_type": "markdown",
   "id": "2d775c3d-9c54-417f-b812-ac7cedbb4a95",
   "metadata": {},
   "source": [
    "# Aşağıdaki şekilde string değiştiren bir fonksiyon yazmak istiyoruz.\n",
    "\n",
    "* before: \"hi my name is john and i am learning python\"\n",
    "* after: \"Hi mY NaMe iS JoHn aNd i aM LeArNiNg pYtHoN\""
   ]
  },
  {
   "cell_type": "code",
   "execution_count": 4,
   "id": "224689ad-81c5-4a4c-9834-7682b65984ac",
   "metadata": {},
   "outputs": [
    {
     "data": {
      "text/plain": [
       "range(0, 7)"
      ]
     },
     "execution_count": 4,
     "metadata": {},
     "output_type": "execute_result"
    }
   ],
   "source": [
    "range(len(\"alperen\"))\n",
    "#burada string içinde nasıl gezdiğimizi gösteriyoruz."
   ]
  },
  {
   "cell_type": "code",
   "execution_count": 8,
   "id": "ef1d4e31-d7d6-4aa9-805b-bc0d7c078689",
   "metadata": {},
   "outputs": [],
   "source": [
    "def alternating(string):\n",
    "    new_string = \" \"\n",
    "    for string_index in range(len(string)):\n",
    "        if string_index % 2 == 0:\n",
    "            new_string += string[string_index].upper()\n",
    "        else:\n",
    "            new_string+= string[string_index].lower()\n",
    "    print(new_string)\n",
    "    \n",
    "    "
   ]
  },
  {
   "cell_type": "code",
   "execution_count": 9,
   "id": "9b708ee5-3828-41e4-8086-7d19057942c4",
   "metadata": {},
   "outputs": [
    {
     "name": "stdout",
     "output_type": "stream",
     "text": [
      " Hi mY NaMe iS JoHn aNd i aM LeArNiNg pYtHoN\n"
     ]
    }
   ],
   "source": [
    "alternating(\"hi my name is john and i am learning python\")"
   ]
  },
  {
   "cell_type": "markdown",
   "id": "329c81a8-4a85-4821-89dd-07332f4f3649",
   "metadata": {},
   "source": [
    "## 2. Çözüm"
   ]
  },
  {
   "cell_type": "code",
   "execution_count": 10,
   "id": "36cff6e3-35ed-45fe-b643-aaefe933ac9a",
   "metadata": {},
   "outputs": [],
   "source": [
    "def alternating2(string):\n",
    "    new_string2 = \"\"\n",
    "    for i, letter in enumerate(string):\n",
    "        if i % 2 == 0:\n",
    "            new_string2 += letter.upper()\n",
    "        else:\n",
    "            new_string2 += letter.lower()\n",
    "    print(new_string2)"
   ]
  },
  {
   "cell_type": "code",
   "execution_count": 11,
   "id": "2bc70969-dd24-4a9a-a44f-3d7a2b661678",
   "metadata": {},
   "outputs": [
    {
     "name": "stdout",
     "output_type": "stream",
     "text": [
      "TaLhA AlPeReN\n"
     ]
    }
   ],
   "source": [
    "alternating2(\"Talha Alperen\")"
   ]
  },
  {
   "cell_type": "code",
   "execution_count": null,
   "id": "1cb06391-9e2b-4c72-938a-af793bdaae49",
   "metadata": {},
   "outputs": [],
   "source": []
  }
 ],
 "metadata": {
  "kernelspec": {
   "display_name": "Python 3 (ipykernel)",
   "language": "python",
   "name": "python3"
  },
  "language_info": {
   "codemirror_mode": {
    "name": "ipython",
    "version": 3
   },
   "file_extension": ".py",
   "mimetype": "text/x-python",
   "name": "python",
   "nbconvert_exporter": "python",
   "pygments_lexer": "ipython3",
   "version": "3.10.9"
  }
 },
 "nbformat": 4,
 "nbformat_minor": 5
}
